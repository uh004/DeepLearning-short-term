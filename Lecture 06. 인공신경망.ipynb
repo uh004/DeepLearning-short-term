{
 "cells": [
  {
   "cell_type": "code",
   "execution_count": 91,
   "id": "e558d0a5",
   "metadata": {},
   "outputs": [],
   "source": [
    "from tensorflow import keras\n",
    "# 지도 학습(다중 분류)\n",
    "# x : 입력 데이터 (외부 자극 신호) <-- 패션 아이템 사진\n",
    "# y : 출력 데이터 (0: 구두, 1: 하히힐, 2: 원피스 ...9)\n",
    "\n",
    "(x_train, y_train), (x_test, y_test) = keras.datasets.fashion_mnist.load_data()"
   ]
  },
  {
   "cell_type": "code",
   "execution_count": 92,
   "id": "8179f4cc",
   "metadata": {},
   "outputs": [
    {
     "name": "stdout",
     "output_type": "stream",
     "text": [
      "(60000, 28, 28) (60000,)\n",
      "(10000, 28, 28) (10000,)\n"
     ]
    }
   ],
   "source": [
    "print(x_train.shape, y_train.shape) # 학습데이터셋\n",
    "print(x_test.shape, y_test.shape) # 시험데이터셋"
   ]
  },
  {
   "cell_type": "code",
   "execution_count": 93,
   "id": "b979be61",
   "metadata": {},
   "outputs": [
    {
     "data": {
      "image/png": "[encoded data removed]",
      "text/plain": [
       "<Figure size 640x480 with 10 Axes>"
      ]
     },
     "metadata": {},
     "output_type": "display_data"
    }
   ],
   "source": [
    "import matplotlib.pyplot as plt\n",
    "\n",
    "# cmap -> color map\n",
    "plt.figure()\n",
    "for idx in range(10):\n",
    "    plt.subplot(2, 5, idx+1)\n",
    "    plt.imshow(x_train[idx], cmap='gray_r') # image show\n",
    "    plt.axis('off')\n",
    "\n",
    "plt.show()"
   ]
  },
  {
   "cell_type": "code",
   "execution_count": 94,
   "id": "4488abcd",
   "metadata": {},
   "outputs": [
    {
     "name": "stdout",
     "output_type": "stream",
     "text": [
      "[9 0 0 3 0 2 7 2 5 5]\n"
     ]
    }
   ],
   "source": [
    "print(y_train[0:10])"
   ]
  },
  {
   "cell_type": "code",
   "execution_count": 95,
   "id": "38dc8e24",
   "metadata": {},
   "outputs": [
    {
     "name": "stdout",
     "output_type": "stream",
     "text": [
      "(array([0, 1, 2, 3, 4, 5, 6, 7, 8, 9], dtype=uint8), array([6000, 6000, 6000, 6000, 6000, 6000, 6000, 6000, 6000, 6000],\n",
      "      dtype=int64))\n"
     ]
    }
   ],
   "source": [
    "import numpy as np\n",
    "\n",
    "print(np.unique(y_train, return_counts=True)) # unique = y_train 데이터에 한번씩만"
   ]
  },
  {
   "cell_type": "code",
   "execution_count": 96,
   "id": "2f5ec92f",
   "metadata": {},
   "outputs": [],
   "source": [
    "import tensorflow as tf"
   ]
  },
  {
   "cell_type": "code",
   "execution_count": 97,
   "id": "f8b99e76",
   "metadata": {},
   "outputs": [],
   "source": [
    "x_train_scaled = x_train / 255.0"
   ]
  },
  {
   "cell_type": "code",
   "execution_count": 98,
   "id": "29e6951b",
   "metadata": {},
   "outputs": [
    {
     "name": "stdout",
     "output_type": "stream",
     "text": [
      "(60000, 28, 28)\n"
     ]
    }
   ],
   "source": [
    "print(x_train_scaled.shape)"
   ]
  },
  {
   "cell_type": "code",
   "execution_count": 99,
   "id": "627f1a4b",
   "metadata": {},
   "outputs": [
    {
     "name": "stdout",
     "output_type": "stream",
     "text": [
      "(60000, 784)\n"
     ]
    }
   ],
   "source": [
    "x_train_scaled = x_train_scaled.reshape(60000, 28 * 28)\n",
    "print(x_train_scaled.shape)"
   ]
  },
  {
   "cell_type": "code",
   "execution_count": 119,
   "id": "be0270f7",
   "metadata": {},
   "outputs": [],
   "source": [
    "happy = keras.layers.Dense(10, activation='softmax',input_shape=(28*28,)) # 밀집층 (Dense Layer)"
   ]
  },
  {
   "cell_type": "code",
   "execution_count": 120,
   "id": "d054f0d9",
   "metadata": {},
   "outputs": [],
   "source": [
    "model = keras.Sequential(happy)"
   ]
  },
  {
   "cell_type": "code",
   "execution_count": 121,
   "id": "534d0913",
   "metadata": {},
   "outputs": [
    {
     "name": "stdout",
     "output_type": "stream",
     "text": [
      "Model: \"sequential_10\"\n",
      "_________________________________________________________________\n",
      " Layer (type)                Output Shape              Param #   \n",
      "=================================================================\n",
      " dense_17 (Dense)            (None, 10)                7850      \n",
      "                                                                 \n",
      "=================================================================\n",
      "Total params: 7850 (30.66 KB)\n",
      "Trainable params: 7850 (30.66 KB)\n",
      "Non-trainable params: 0 (0.00 Byte)\n",
      "_________________________________________________________________\n"
     ]
    }
   ],
   "source": [
    "model.summary()"
   ]
  },
  {
   "cell_type": "code",
   "execution_count": 122,
   "id": "00e1c990",
   "metadata": {},
   "outputs": [],
   "source": [
    "# 모델컴파일\n",
    "# 지도 학습(다중 분류)\n",
    "# 문제(x) + 정답(y)\n",
    "# y_prediction(예측)\n",
    "# 오차(오류, error) = 정답(y) - y_prediction(예측)\n",
    "model.compile(loss='sparse_categorical_crossentropy', # 손실, 오류(error)\n",
    "             optimizer='adam',\n",
    "             metrics='accuracy')"
   ]
  },
  {
   "cell_type": "code",
   "execution_count": 123,
   "id": "e81aa671",
   "metadata": {},
   "outputs": [
    {
     "name": "stdout",
     "output_type": "stream",
     "text": [
      "Epoch 1/5\n",
      "1875/1875 [==============================] - 3s 1ms/step - loss: 0.5973 - accuracy: 0.7975\n",
      "Epoch 2/5\n",
      "1875/1875 [==============================] - 2s 1ms/step - loss: 0.4608 - accuracy: 0.8437\n",
      "Epoch 3/5\n",
      "1875/1875 [==============================] - 3s 1ms/step - loss: 0.4352 - accuracy: 0.8508\n",
      "Epoch 4/5\n",
      "1875/1875 [==============================] - 3s 1ms/step - loss: 0.4218 - accuracy: 0.8558\n",
      "Epoch 5/5\n",
      "1875/1875 [==============================] - 3s 1ms/step - loss: 0.4144 - accuracy: 0.8562\n"
     ]
    },
    {
     "data": {
      "text/plain": [
       "<keras.src.callbacks.History at 0x1c942ac2850>"
      ]
     },
     "execution_count": 123,
     "metadata": {},
     "output_type": "execute_result"
    }
   ],
   "source": [
    "# 모델 학습\n",
    "# fit <- 딱 들어맞는\n",
    "model.fit(x_train_scaled, y_train, epochs=5)"
   ]
  },
  {
   "cell_type": "code",
   "execution_count": 124,
   "id": "bcc017ae",
   "metadata": {},
   "outputs": [
    {
     "name": "stdout",
     "output_type": "stream",
     "text": [
      "313/313 [==============================] - 1s 1ms/step - loss: 0.4741 - accuracy: 0.8359\n"
     ]
    }
   ],
   "source": [
    "# 평가 \n",
    "\n",
    "x_test_scaled = x_test / 255.0 # 정규회\n",
    "x_test_scaled = x_test_scaled.reshape(10000, 28 * 28) # 2D -> 1D 모양 변경\n",
    "\n",
    "output = model.evaluate(x_test_scaled, y_test)"
   ]
  },
  {
   "cell_type": "code",
   "execution_count": 129,
   "id": "a7fd8f3c",
   "metadata": {},
   "outputs": [
    {
     "name": "stdout",
     "output_type": "stream",
     "text": [
      "<class 'list'>\n",
      "[0.474148690700531, 0.8359000086784363]\n",
      "테스트 데이터의 정확도: 47.41\n"
     ]
    }
   ],
   "source": [
    "print(type(output))\n",
    "print(output)\n",
    "# print(f'테스트 데이터의 손실: {output[0]}')\n",
    "print('테스트 데이터의 정확도: %.2f' % (output[0] * 100))"
   ]
  }
 ],
 "metadata": {
  "kernelspec": {
   "display_name": "Python 3 (ipykernel)",
   "language": "python",
   "name": "python3"
  },
  "language_info": {
   "codemirror_mode": {
    "name": "ipython",
    "version": 3
   },
   "file_extension": ".py",
   "mimetype": "text/x-python",
   "name": "python",
   "nbconvert_exporter": "python",
   "pygments_lexer": "ipython3",
   "version": "3.9.13"
  }
 },
 "nbformat": 4,
 "nbformat_minor": 5
}
