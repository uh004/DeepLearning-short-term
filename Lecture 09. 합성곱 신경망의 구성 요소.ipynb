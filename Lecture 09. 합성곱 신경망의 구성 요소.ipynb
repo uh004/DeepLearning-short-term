{
 "cells": [
  {
   "cell_type": "markdown",
   "id": "c678d333",
   "metadata": {},
   "source": [
    "# 01. 합성곱"
   ]
  },
  {
   "cell_type": "code",
   "execution_count": null,
   "id": "c070d974",
   "metadata": {},
   "outputs": [],
   "source": [
    "# CNN(Convolution Neural Network)\n",
    "# 합성곱은 마치 입력 데이터에 마법의 도장을 찍어서 유용한 특성만 드러나게 하는 것으로 비유"
   ]
  },
  {
   "cell_type": "code",
   "execution_count": null,
   "id": "599e3606",
   "metadata": {},
   "outputs": [],
   "source": [
    "# 완전 연결 신경망 (Fully Connected Layer FC Layer)"
   ]
  },
  {
   "cell_type": "markdown",
   "id": "67769343",
   "metadata": {},
   "source": [
    "# 02. 케라스 합성곱 층"
   ]
  },
  {
   "cell_type": "code",
   "execution_count": 3,
   "id": "03b7fdb9",
   "metadata": {},
   "outputs": [
    {
     "data": {
      "text/plain": [
       "<keras.src.layers.convolutional.conv2d.Conv2D at 0x220288cc9d0>"
      ]
     },
     "execution_count": 3,
     "metadata": {},
     "output_type": "execute_result"
    }
   ],
   "source": [
    "from tensorflow import keras\n",
    "\n",
    "keras.layers.Conv2D(10, kernel_size=(3, 3), activation='relu')"
   ]
  },
  {
   "cell_type": "code",
   "execution_count": null,
   "id": "e3d681fc",
   "metadata": {},
   "outputs": [],
   "source": [
    "# 패딩(Padding): 입력 배열의 주위를 가상의 원소로 채우는 것"
   ]
  },
  {
   "cell_type": "code",
   "execution_count": null,
   "id": "414b5c15",
   "metadata": {},
   "outputs": [],
   "source": [
    "# 스트라이드(보폭): 지금까지는 좌우, 위아래 한칸씩 이동, 하지만 두 칸도 가능\n",
    "# 두 칸씩 이동하면 만들어지는 특성 맵의 크기는 작아진다.\n",
    "# 기본이 1이라서 잘 건들지 않는다."
   ]
  },
  {
   "cell_type": "code",
   "execution_count": null,
   "id": "659dd6f8",
   "metadata": {},
   "outputs": [],
   "source": [
    "# 풀링(Pooling): 합성곱 층에서 만든 특성 맵의 가로세로 크기를 줄이는 역활 수행"
   ]
  },
  {
   "cell_type": "code",
   "execution_count": null,
   "id": "7b26c1a2",
   "metadata": {},
   "outputs": [],
   "source": [
    "# 최대 풀링(Max Pooling): 도장을 찍은 영역에서 큰 값을 거르거나\n",
    "# 평균 풀링(Average Pooling): 평균값을 계산"
   ]
  },
  {
   "cell_type": "markdown",
   "id": "25560866",
   "metadata": {},
   "source": [
    "# 03. 합성곱 신경망의 전체 구조\n",
    "1. Conv2D()함수\n",
    "2. MaxPooling()함수"
   ]
  },
  {
   "cell_type": "code",
   "execution_count": null,
   "id": "b575a064",
   "metadata": {},
   "outputs": [],
   "source": [
    "# 밀집층 Flaatten 과 Dense 사용"
   ]
  },
  {
   "cell_type": "code",
   "execution_count": null,
   "id": "636c3a22",
   "metadata": {},
   "outputs": [],
   "source": []
  },
  {
   "cell_type": "code",
   "execution_count": null,
   "id": "0bcaccb2",
   "metadata": {},
   "outputs": [],
   "source": []
  },
  {
   "cell_type": "code",
   "execution_count": null,
   "id": "9d3a95f0",
   "metadata": {},
   "outputs": [],
   "source": []
  },
  {
   "cell_type": "code",
   "execution_count": null,
   "id": "fb967079",
   "metadata": {},
   "outputs": [],
   "source": []
  },
  {
   "cell_type": "code",
   "execution_count": null,
   "id": "d665b314",
   "metadata": {},
   "outputs": [],
   "source": []
  },
  {
   "cell_type": "code",
   "execution_count": null,
   "id": "98ce0f7f",
   "metadata": {},
   "outputs": [],
   "source": []
  },
  {
   "cell_type": "code",
   "execution_count": null,
   "id": "bea54c8d",
   "metadata": {},
   "outputs": [],
   "source": []
  },
  {
   "cell_type": "code",
   "execution_count": null,
   "id": "65a6c820",
   "metadata": {},
   "outputs": [],
   "source": []
  },
  {
   "cell_type": "code",
   "execution_count": null,
   "id": "1cbd5916",
   "metadata": {},
   "outputs": [],
   "source": []
  },
  {
   "cell_type": "code",
   "execution_count": null,
   "id": "d49afeec",
   "metadata": {},
   "outputs": [],
   "source": []
  },
  {
   "cell_type": "code",
   "execution_count": null,
   "id": "f7b32548",
   "metadata": {},
   "outputs": [],
   "source": []
  },
  {
   "cell_type": "code",
   "execution_count": null,
   "id": "cb3d2d28",
   "metadata": {},
   "outputs": [],
   "source": []
  },
  {
   "cell_type": "code",
   "execution_count": null,
   "id": "98d2c25f",
   "metadata": {},
   "outputs": [],
   "source": []
  },
  {
   "cell_type": "code",
   "execution_count": null,
   "id": "480d153c",
   "metadata": {},
   "outputs": [],
   "source": []
  }
 ],
 "metadata": {
  "kernelspec": {
   "display_name": "Python 3 (ipykernel)",
   "language": "python",
   "name": "python3"
  },
  "language_info": {
   "codemirror_mode": {
    "name": "ipython",
    "version": 3
   },
   "file_extension": ".py",
   "mimetype": "text/x-python",
   "name": "python",
   "nbconvert_exporter": "python",
   "pygments_lexer": "ipython3",
   "version": "3.9.13"
  }
 },
 "nbformat": 4,
 "nbformat_minor": 5
}
