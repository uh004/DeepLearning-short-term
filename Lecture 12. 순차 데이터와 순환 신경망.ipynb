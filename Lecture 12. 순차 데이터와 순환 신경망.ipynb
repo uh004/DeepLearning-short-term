{
 "cells": [
  {
   "cell_type": "markdown",
   "id": "67010085",
   "metadata": {},
   "source": [
    "### ANN -> DNN(은닉층 2개 이상) -> RNN(SimpleRNN, LSTM(장기기억 메모리), GRU) -> Attention -> Self Attention -> Transformer(컴비활용: VIT, 챗봇활용: BERT, GPT)"
   ]
  },
  {
   "cell_type": "markdown",
   "id": "bcff44a8",
   "metadata": {},
   "source": [
    "# 01. 순환 신경망"
   ]
  },
  {
   "cell_type": "code",
   "execution_count": null,
   "id": "5a0ceb60",
   "metadata": {},
   "outputs": [],
   "source": [
    "# 순차 데이터(Sequential Data)는 텍스트나 시계열 데이터(Time Series Data)와 같이\n",
    "# 순서에 의미가 있는 데이터"
   ]
  },
  {
   "cell_type": "code",
   "execution_count": null,
   "id": "b57cff16",
   "metadata": {},
   "outputs": [],
   "source": [
    "# 순환 신경망(Recurrent Neural Network, RNN)은 일반적인 완전 연결 신경망과\n",
    "# 거의 비슷하다. (뉴런의 출력이 다시 자기 자신으로 전달)"
   ]
  },
  {
   "cell_type": "code",
   "execution_count": null,
   "id": "ea185a66",
   "metadata": {},
   "outputs": [],
   "source": [
    "# 순환 신경망에서는이전 샘플에 대한 기억을 가지고 있다 종종말함  \n",
    "# 이렇게 샘플을 처리하는 한 단계를 타입스텝(Timestep)이라고 한다.\n",
    "#       1번    2번    3번     4번  <- 타입스텝 (배열 형태로 되있음)\n",
    "# ex) [0001] [0010] [0100] [1000]  # 맨마지막 데이터를 잘 기억 \n",
    "#       오늘  점심에  뭐   먹었어?\n",
    "# 장기 기억 의존성(Simple RNN) -> LSTM(단기 기억을 늘레겠다.) -> GRU(계산량 줄이자)"
   ]
  },
  {
   "cell_type": "code",
   "execution_count": null,
   "id": "33184e59",
   "metadata": {},
   "outputs": [],
   "source": [
    "# DNN(1차원) CNN(2차원) RNN(3차원)"
   ]
  },
  {
   "cell_type": "code",
   "execution_count": null,
   "id": "f8da4b5a",
   "metadata": {},
   "outputs": [],
   "source": [
    "# LSTM -> 단기기억 능력을 장기화하는 모델 Short Term Memory -> Long Term Memory"
   ]
  }
 ],
 "metadata": {
  "kernelspec": {
   "display_name": "Python 3 (ipykernel)",
   "language": "python",
   "name": "python3"
  },
  "language_info": {
   "codemirror_mode": {
    "name": "ipython",
    "version": 3
   },
   "file_extension": ".py",
   "mimetype": "text/x-python",
   "name": "python",
   "nbconvert_exporter": "python",
   "pygments_lexer": "ipython3",
   "version": "3.9.13"
  }
 },
 "nbformat": 4,
 "nbformat_minor": 5
}
